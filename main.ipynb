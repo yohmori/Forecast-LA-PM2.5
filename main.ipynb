{
 "cells": [
  {
   "cell_type": "code",
   "execution_count": 35,
   "metadata": {},
   "outputs": [],
   "source": [
    "import pandas as pd\n",
    "import numpy as np\n",
    "from sklearn.preprocessing import MinMaxScaler"
   ]
  },
  {
   "cell_type": "code",
   "execution_count": 27,
   "metadata": {},
   "outputs": [],
   "source": [
    "df_1103 = pd.read_csv(\"data/df_1103.csv\")\n",
    "# df_1201 = pd.read_csv(\"data/df_1201.csv\")"
   ]
  },
  {
   "cell_type": "code",
   "execution_count": 28,
   "metadata": {},
   "outputs": [],
   "source": [
    "df_1103['dt'] = pd.to_datetime(df_1103['datetime'])\n",
    "df_1103.set_index('dt', inplace=True)\n",
    "df_1103.drop(['Unnamed: 0', 'datetime', 'AQS_Code'], axis=1, inplace=True)"
   ]
  },
  {
   "cell_type": "code",
   "execution_count": 30,
   "metadata": {},
   "outputs": [],
   "source": [
    "df_1103.columns = ['no2','co','so2','rh','temp','ozone','y']"
   ]
  },
  {
   "cell_type": "code",
   "execution_count": 31,
   "metadata": {},
   "outputs": [
    {
     "data": {
      "text/html": [
       "<div>\n",
       "<style scoped>\n",
       "    .dataframe tbody tr th:only-of-type {\n",
       "        vertical-align: middle;\n",
       "    }\n",
       "\n",
       "    .dataframe tbody tr th {\n",
       "        vertical-align: top;\n",
       "    }\n",
       "\n",
       "    .dataframe thead th {\n",
       "        text-align: right;\n",
       "    }\n",
       "</style>\n",
       "<table border=\"1\" class=\"dataframe\">\n",
       "  <thead>\n",
       "    <tr style=\"text-align: right;\">\n",
       "      <th></th>\n",
       "      <th>no2</th>\n",
       "      <th>co</th>\n",
       "      <th>so2</th>\n",
       "      <th>rh</th>\n",
       "      <th>temp</th>\n",
       "      <th>ozone</th>\n",
       "      <th>y</th>\n",
       "    </tr>\n",
       "    <tr>\n",
       "      <th>dt</th>\n",
       "      <th></th>\n",
       "      <th></th>\n",
       "      <th></th>\n",
       "      <th></th>\n",
       "      <th></th>\n",
       "      <th></th>\n",
       "      <th></th>\n",
       "    </tr>\n",
       "  </thead>\n",
       "  <tbody>\n",
       "    <tr>\n",
       "      <th>2015-01-01 08:00:00</th>\n",
       "      <td>32.90</td>\n",
       "      <td>1.1620</td>\n",
       "      <td>0.5</td>\n",
       "      <td>49.0</td>\n",
       "      <td>41.2</td>\n",
       "      <td>0.007</td>\n",
       "      <td>46.0</td>\n",
       "    </tr>\n",
       "    <tr>\n",
       "      <th>2015-01-01 09:00:00</th>\n",
       "      <td>32.20</td>\n",
       "      <td>1.2735</td>\n",
       "      <td>0.0</td>\n",
       "      <td>55.0</td>\n",
       "      <td>39.9</td>\n",
       "      <td>0.007</td>\n",
       "      <td>59.0</td>\n",
       "    </tr>\n",
       "    <tr>\n",
       "      <th>2015-01-01 10:00:00</th>\n",
       "      <td>30.70</td>\n",
       "      <td>0.8810</td>\n",
       "      <td>0.3</td>\n",
       "      <td>56.0</td>\n",
       "      <td>39.1</td>\n",
       "      <td>0.006</td>\n",
       "      <td>66.0</td>\n",
       "    </tr>\n",
       "    <tr>\n",
       "      <th>2015-01-01 11:00:00</th>\n",
       "      <td>31.50</td>\n",
       "      <td>0.4940</td>\n",
       "      <td>0.0</td>\n",
       "      <td>47.0</td>\n",
       "      <td>38.0</td>\n",
       "      <td>0.008</td>\n",
       "      <td>54.0</td>\n",
       "    </tr>\n",
       "    <tr>\n",
       "      <th>2015-01-01 12:00:00</th>\n",
       "      <td>30.60</td>\n",
       "      <td>0.3105</td>\n",
       "      <td>0.1</td>\n",
       "      <td>40.0</td>\n",
       "      <td>38.1</td>\n",
       "      <td>0.006</td>\n",
       "      <td>50.0</td>\n",
       "    </tr>\n",
       "    <tr>\n",
       "      <th>...</th>\n",
       "      <td>...</td>\n",
       "      <td>...</td>\n",
       "      <td>...</td>\n",
       "      <td>...</td>\n",
       "      <td>...</td>\n",
       "      <td>...</td>\n",
       "      <td>...</td>\n",
       "    </tr>\n",
       "    <tr>\n",
       "      <th>2022-07-01 03:00:00</th>\n",
       "      <td>6.85</td>\n",
       "      <td>0.2000</td>\n",
       "      <td>0.0</td>\n",
       "      <td>18.0</td>\n",
       "      <td>67.0</td>\n",
       "      <td>0.032</td>\n",
       "      <td>13.5</td>\n",
       "    </tr>\n",
       "    <tr>\n",
       "      <th>2022-07-01 04:00:00</th>\n",
       "      <td>7.95</td>\n",
       "      <td>0.2000</td>\n",
       "      <td>0.0</td>\n",
       "      <td>18.0</td>\n",
       "      <td>67.0</td>\n",
       "      <td>0.029</td>\n",
       "      <td>13.2</td>\n",
       "    </tr>\n",
       "    <tr>\n",
       "      <th>2022-07-01 05:00:00</th>\n",
       "      <td>8.40</td>\n",
       "      <td>0.2000</td>\n",
       "      <td>0.0</td>\n",
       "      <td>18.0</td>\n",
       "      <td>67.0</td>\n",
       "      <td>0.026</td>\n",
       "      <td>11.8</td>\n",
       "    </tr>\n",
       "    <tr>\n",
       "      <th>2022-07-01 06:00:00</th>\n",
       "      <td>11.95</td>\n",
       "      <td>0.3000</td>\n",
       "      <td>0.0</td>\n",
       "      <td>18.0</td>\n",
       "      <td>67.0</td>\n",
       "      <td>0.021</td>\n",
       "      <td>13.2</td>\n",
       "    </tr>\n",
       "    <tr>\n",
       "      <th>2022-07-01 07:00:00</th>\n",
       "      <td>11.25</td>\n",
       "      <td>0.3000</td>\n",
       "      <td>0.2</td>\n",
       "      <td>18.0</td>\n",
       "      <td>67.0</td>\n",
       "      <td>0.021</td>\n",
       "      <td>13.7</td>\n",
       "    </tr>\n",
       "  </tbody>\n",
       "</table>\n",
       "<p>65712 rows × 7 columns</p>\n",
       "</div>"
      ],
      "text/plain": [
       "                       no2      co  so2    rh  temp  ozone     y\n",
       "dt                                                              \n",
       "2015-01-01 08:00:00  32.90  1.1620  0.5  49.0  41.2  0.007  46.0\n",
       "2015-01-01 09:00:00  32.20  1.2735  0.0  55.0  39.9  0.007  59.0\n",
       "2015-01-01 10:00:00  30.70  0.8810  0.3  56.0  39.1  0.006  66.0\n",
       "2015-01-01 11:00:00  31.50  0.4940  0.0  47.0  38.0  0.008  54.0\n",
       "2015-01-01 12:00:00  30.60  0.3105  0.1  40.0  38.1  0.006  50.0\n",
       "...                    ...     ...  ...   ...   ...    ...   ...\n",
       "2022-07-01 03:00:00   6.85  0.2000  0.0  18.0  67.0  0.032  13.5\n",
       "2022-07-01 04:00:00   7.95  0.2000  0.0  18.0  67.0  0.029  13.2\n",
       "2022-07-01 05:00:00   8.40  0.2000  0.0  18.0  67.0  0.026  11.8\n",
       "2022-07-01 06:00:00  11.95  0.3000  0.0  18.0  67.0  0.021  13.2\n",
       "2022-07-01 07:00:00  11.25  0.3000  0.2  18.0  67.0  0.021  13.7\n",
       "\n",
       "[65712 rows x 7 columns]"
      ]
     },
     "execution_count": 31,
     "metadata": {},
     "output_type": "execute_result"
    }
   ],
   "source": [
    "df_1103"
   ]
  },
  {
   "cell_type": "code",
   "execution_count": 33,
   "metadata": {},
   "outputs": [],
   "source": [
    "scaler = MinMaxScaler()\n",
    "df_1103_s = scaler.fit_transform(df_1103)"
   ]
  },
  {
   "cell_type": "code",
   "execution_count": 34,
   "metadata": {},
   "outputs": [
    {
     "data": {
      "text/plain": [
       "array([[0.40671642, 0.41105263, 0.07857143, ..., 0.04801097, 0.03783784,\n",
       "        0.09506399],\n",
       "       [0.39800995, 0.44039474, 0.04285714, ..., 0.03017833, 0.03783784,\n",
       "        0.11882998],\n",
       "       [0.37935323, 0.33710526, 0.06428571, ..., 0.01920439, 0.03243243,\n",
       "        0.13162706],\n",
       "       ...,\n",
       "       [0.10199005, 0.15789474, 0.04285714, ..., 0.40192044, 0.14054054,\n",
       "        0.03254113],\n",
       "       [0.14614428, 0.18421053, 0.04285714, ..., 0.40192044, 0.11351351,\n",
       "        0.03510055],\n",
       "       [0.13743781, 0.18421053, 0.05714286, ..., 0.40192044, 0.11351351,\n",
       "        0.03601463]])"
      ]
     },
     "execution_count": 34,
     "metadata": {},
     "output_type": "execute_result"
    }
   ],
   "source": [
    "df_1103_s"
   ]
  },
  {
   "cell_type": "code",
   "execution_count": null,
   "metadata": {},
   "outputs": [],
   "source": []
  }
 ],
 "metadata": {
  "kernelspec": {
   "display_name": "pm25env",
   "language": "python",
   "name": "python3"
  },
  "language_info": {
   "codemirror_mode": {
    "name": "ipython",
    "version": 3
   },
   "file_extension": ".py",
   "mimetype": "text/x-python",
   "name": "python",
   "nbconvert_exporter": "python",
   "pygments_lexer": "ipython3",
   "version": "3.11.8"
  }
 },
 "nbformat": 4,
 "nbformat_minor": 2
}
